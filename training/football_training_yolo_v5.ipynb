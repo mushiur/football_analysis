{
 "cells": [
  {
   "cell_type": "code",
   "execution_count": 3,
   "id": "3dbe31c0",
   "metadata": {},
   "outputs": [
    {
     "name": "stdout",
     "output_type": "stream",
     "text": [
      "Requirement already satisfied: ultralytics in c:\\users\\excited\\appdata\\local\\programs\\python\\python313\\lib\\site-packages (8.3.152)\n",
      "Requirement already satisfied: numpy>=1.23.0 in c:\\users\\excited\\appdata\\local\\programs\\python\\python313\\lib\\site-packages (from ultralytics) (2.3.0)\n",
      "Requirement already satisfied: matplotlib>=3.3.0 in c:\\users\\excited\\appdata\\local\\programs\\python\\python313\\lib\\site-packages (from ultralytics) (3.10.3)\n",
      "Requirement already satisfied: opencv-python>=4.6.0 in c:\\users\\excited\\appdata\\local\\programs\\python\\python313\\lib\\site-packages (from ultralytics) (4.11.0.86)\n",
      "Requirement already satisfied: pillow>=7.1.2 in c:\\users\\excited\\appdata\\local\\programs\\python\\python313\\lib\\site-packages (from ultralytics) (11.2.1)\n",
      "Requirement already satisfied: pyyaml>=5.3.1 in c:\\users\\excited\\appdata\\local\\programs\\python\\python313\\lib\\site-packages (from ultralytics) (6.0.2)\n",
      "Requirement already satisfied: requests>=2.23.0 in c:\\users\\excited\\appdata\\local\\programs\\python\\python313\\lib\\site-packages (from ultralytics) (2.32.4)\n",
      "Requirement already satisfied: scipy>=1.4.1 in c:\\users\\excited\\appdata\\local\\programs\\python\\python313\\lib\\site-packages (from ultralytics) (1.15.3)\n",
      "Requirement already satisfied: torch>=1.8.0 in c:\\users\\excited\\appdata\\local\\programs\\python\\python313\\lib\\site-packages (from ultralytics) (2.7.1)\n",
      "Requirement already satisfied: torchvision>=0.9.0 in c:\\users\\excited\\appdata\\local\\programs\\python\\python313\\lib\\site-packages (from ultralytics) (0.22.1)\n",
      "Requirement already satisfied: tqdm>=4.64.0 in c:\\users\\excited\\appdata\\local\\programs\\python\\python313\\lib\\site-packages (from ultralytics) (4.67.1)\n",
      "Requirement already satisfied: psutil in c:\\users\\excited\\appdata\\local\\programs\\python\\python313\\lib\\site-packages (from ultralytics) (7.0.0)\n",
      "Requirement already satisfied: py-cpuinfo in c:\\users\\excited\\appdata\\local\\programs\\python\\python313\\lib\\site-packages (from ultralytics) (9.0.0)\n",
      "Requirement already satisfied: pandas>=1.1.4 in c:\\users\\excited\\appdata\\local\\programs\\python\\python313\\lib\\site-packages (from ultralytics) (2.3.0)\n",
      "Requirement already satisfied: ultralytics-thop>=2.0.0 in c:\\users\\excited\\appdata\\local\\programs\\python\\python313\\lib\\site-packages (from ultralytics) (2.0.14)\n",
      "Requirement already satisfied: contourpy>=1.0.1 in c:\\users\\excited\\appdata\\local\\programs\\python\\python313\\lib\\site-packages (from matplotlib>=3.3.0->ultralytics) (1.3.2)\n",
      "Requirement already satisfied: cycler>=0.10 in c:\\users\\excited\\appdata\\local\\programs\\python\\python313\\lib\\site-packages (from matplotlib>=3.3.0->ultralytics) (0.12.1)\n",
      "Requirement already satisfied: fonttools>=4.22.0 in c:\\users\\excited\\appdata\\local\\programs\\python\\python313\\lib\\site-packages (from matplotlib>=3.3.0->ultralytics) (4.58.2)\n",
      "Requirement already satisfied: kiwisolver>=1.3.1 in c:\\users\\excited\\appdata\\local\\programs\\python\\python313\\lib\\site-packages (from matplotlib>=3.3.0->ultralytics) (1.4.8)\n",
      "Requirement already satisfied: packaging>=20.0 in c:\\users\\excited\\appdata\\local\\programs\\python\\python313\\lib\\site-packages (from matplotlib>=3.3.0->ultralytics) (25.0)\n",
      "Requirement already satisfied: pyparsing>=2.3.1 in c:\\users\\excited\\appdata\\local\\programs\\python\\python313\\lib\\site-packages (from matplotlib>=3.3.0->ultralytics) (3.2.3)\n",
      "Requirement already satisfied: python-dateutil>=2.7 in c:\\users\\excited\\appdata\\local\\programs\\python\\python313\\lib\\site-packages (from matplotlib>=3.3.0->ultralytics) (2.9.0.post0)\n",
      "Requirement already satisfied: pytz>=2020.1 in c:\\users\\excited\\appdata\\local\\programs\\python\\python313\\lib\\site-packages (from pandas>=1.1.4->ultralytics) (2025.2)\n",
      "Requirement already satisfied: tzdata>=2022.7 in c:\\users\\excited\\appdata\\local\\programs\\python\\python313\\lib\\site-packages (from pandas>=1.1.4->ultralytics) (2025.2)\n",
      "Requirement already satisfied: charset_normalizer<4,>=2 in c:\\users\\excited\\appdata\\local\\programs\\python\\python313\\lib\\site-packages (from requests>=2.23.0->ultralytics) (3.4.2)\n",
      "Requirement already satisfied: idna<4,>=2.5 in c:\\users\\excited\\appdata\\local\\programs\\python\\python313\\lib\\site-packages (from requests>=2.23.0->ultralytics) (3.10)\n",
      "Requirement already satisfied: urllib3<3,>=1.21.1 in c:\\users\\excited\\appdata\\local\\programs\\python\\python313\\lib\\site-packages (from requests>=2.23.0->ultralytics) (2.4.0)\n",
      "Requirement already satisfied: certifi>=2017.4.17 in c:\\users\\excited\\appdata\\local\\programs\\python\\python313\\lib\\site-packages (from requests>=2.23.0->ultralytics) (2025.4.26)\n",
      "Requirement already satisfied: filelock in c:\\users\\excited\\appdata\\local\\programs\\python\\python313\\lib\\site-packages (from torch>=1.8.0->ultralytics) (3.18.0)\n",
      "Requirement already satisfied: typing-extensions>=4.10.0 in c:\\users\\excited\\appdata\\local\\programs\\python\\python313\\lib\\site-packages (from torch>=1.8.0->ultralytics) (4.14.0)\n",
      "Requirement already satisfied: sympy>=1.13.3 in c:\\users\\excited\\appdata\\local\\programs\\python\\python313\\lib\\site-packages (from torch>=1.8.0->ultralytics) (1.14.0)\n",
      "Requirement already satisfied: networkx in c:\\users\\excited\\appdata\\local\\programs\\python\\python313\\lib\\site-packages (from torch>=1.8.0->ultralytics) (3.5)\n",
      "Requirement already satisfied: jinja2 in c:\\users\\excited\\appdata\\local\\programs\\python\\python313\\lib\\site-packages (from torch>=1.8.0->ultralytics) (3.1.6)\n",
      "Requirement already satisfied: fsspec in c:\\users\\excited\\appdata\\local\\programs\\python\\python313\\lib\\site-packages (from torch>=1.8.0->ultralytics) (2025.5.1)\n",
      "Requirement already satisfied: setuptools in c:\\users\\excited\\appdata\\local\\programs\\python\\python313\\lib\\site-packages (from torch>=1.8.0->ultralytics) (80.9.0)\n",
      "Requirement already satisfied: colorama in c:\\users\\excited\\appdata\\local\\programs\\python\\python313\\lib\\site-packages (from tqdm>=4.64.0->ultralytics) (0.4.6)\n",
      "Requirement already satisfied: six>=1.5 in c:\\users\\excited\\appdata\\local\\programs\\python\\python313\\lib\\site-packages (from python-dateutil>=2.7->matplotlib>=3.3.0->ultralytics) (1.17.0)\n",
      "Requirement already satisfied: mpmath<1.4,>=1.1.0 in c:\\users\\excited\\appdata\\local\\programs\\python\\python313\\lib\\site-packages (from sympy>=1.13.3->torch>=1.8.0->ultralytics) (1.3.0)\n",
      "Requirement already satisfied: MarkupSafe>=2.0 in c:\\users\\excited\\appdata\\local\\programs\\python\\python313\\lib\\site-packages (from jinja2->torch>=1.8.0->ultralytics) (3.0.2)\n"
     ]
    },
    {
     "name": "stderr",
     "output_type": "stream",
     "text": [
      "\n",
      "[notice] A new release of pip is available: 25.0.1 -> 25.1.1\n",
      "[notice] To update, run: python.exe -m pip install --upgrade pip\n"
     ]
    },
    {
     "name": "stdout",
     "output_type": "stream",
     "text": [
      "Collecting roboflow\n",
      "  Downloading roboflow-1.1.66-py3-none-any.whl.metadata (9.7 kB)\n",
      "Requirement already satisfied: certifi in c:\\users\\excited\\appdata\\local\\programs\\python\\python313\\lib\\site-packages (from roboflow) (2025.4.26)\n",
      "Collecting idna==3.7 (from roboflow)\n",
      "  Downloading idna-3.7-py3-none-any.whl.metadata (9.9 kB)\n",
      "Requirement already satisfied: cycler in c:\\users\\excited\\appdata\\local\\programs\\python\\python313\\lib\\site-packages (from roboflow) (0.12.1)\n",
      "Requirement already satisfied: kiwisolver>=1.3.1 in c:\\users\\excited\\appdata\\local\\programs\\python\\python313\\lib\\site-packages (from roboflow) (1.4.8)\n",
      "Requirement already satisfied: matplotlib in c:\\users\\excited\\appdata\\local\\programs\\python\\python313\\lib\\site-packages (from roboflow) (3.10.3)\n",
      "Requirement already satisfied: numpy>=1.18.5 in c:\\users\\excited\\appdata\\local\\programs\\python\\python313\\lib\\site-packages (from roboflow) (2.3.0)\n",
      "Collecting opencv-python-headless==4.10.0.84 (from roboflow)\n",
      "  Downloading opencv_python_headless-4.10.0.84-cp37-abi3-win_amd64.whl.metadata (20 kB)\n",
      "Requirement already satisfied: Pillow>=7.1.2 in c:\\users\\excited\\appdata\\local\\programs\\python\\python313\\lib\\site-packages (from roboflow) (11.2.1)\n",
      "Collecting pillow-heif>=0.18.0 (from roboflow)\n",
      "  Downloading pillow_heif-0.22.0-cp313-cp313-win_amd64.whl.metadata (9.8 kB)\n",
      "Requirement already satisfied: python-dateutil in c:\\users\\excited\\appdata\\local\\programs\\python\\python313\\lib\\site-packages (from roboflow) (2.9.0.post0)\n",
      "Collecting python-dotenv (from roboflow)\n",
      "  Downloading python_dotenv-1.1.0-py3-none-any.whl.metadata (24 kB)\n",
      "Requirement already satisfied: requests in c:\\users\\excited\\appdata\\local\\programs\\python\\python313\\lib\\site-packages (from roboflow) (2.32.4)\n",
      "Requirement already satisfied: six in c:\\users\\excited\\appdata\\local\\programs\\python\\python313\\lib\\site-packages (from roboflow) (1.17.0)\n",
      "Requirement already satisfied: urllib3>=1.26.6 in c:\\users\\excited\\appdata\\local\\programs\\python\\python313\\lib\\site-packages (from roboflow) (2.4.0)\n",
      "Requirement already satisfied: tqdm>=4.41.0 in c:\\users\\excited\\appdata\\local\\programs\\python\\python313\\lib\\site-packages (from roboflow) (4.67.1)\n",
      "Requirement already satisfied: PyYAML>=5.3.1 in c:\\users\\excited\\appdata\\local\\programs\\python\\python313\\lib\\site-packages (from roboflow) (6.0.2)\n",
      "Collecting requests-toolbelt (from roboflow)\n",
      "  Downloading requests_toolbelt-1.0.0-py2.py3-none-any.whl.metadata (14 kB)\n",
      "Collecting filetype (from roboflow)\n",
      "  Downloading filetype-1.2.0-py2.py3-none-any.whl.metadata (6.5 kB)\n",
      "Requirement already satisfied: colorama in c:\\users\\excited\\appdata\\local\\programs\\python\\python313\\lib\\site-packages (from tqdm>=4.41.0->roboflow) (0.4.6)\n",
      "Requirement already satisfied: contourpy>=1.0.1 in c:\\users\\excited\\appdata\\local\\programs\\python\\python313\\lib\\site-packages (from matplotlib->roboflow) (1.3.2)\n",
      "Requirement already satisfied: fonttools>=4.22.0 in c:\\users\\excited\\appdata\\local\\programs\\python\\python313\\lib\\site-packages (from matplotlib->roboflow) (4.58.2)\n",
      "Requirement already satisfied: packaging>=20.0 in c:\\users\\excited\\appdata\\local\\programs\\python\\python313\\lib\\site-packages (from matplotlib->roboflow) (25.0)\n",
      "Requirement already satisfied: pyparsing>=2.3.1 in c:\\users\\excited\\appdata\\local\\programs\\python\\python313\\lib\\site-packages (from matplotlib->roboflow) (3.2.3)\n",
      "Requirement already satisfied: charset_normalizer<4,>=2 in c:\\users\\excited\\appdata\\local\\programs\\python\\python313\\lib\\site-packages (from requests->roboflow) (3.4.2)\n",
      "Downloading roboflow-1.1.66-py3-none-any.whl (86 kB)\n",
      "Downloading idna-3.7-py3-none-any.whl (66 kB)\n",
      "Downloading opencv_python_headless-4.10.0.84-cp37-abi3-win_amd64.whl (38.8 MB)\n",
      "   ---------------------------------------- 0.0/38.8 MB ? eta -:--:--\n",
      "   --- ------------------------------------ 3.4/38.8 MB 16.8 MB/s eta 0:00:03\n",
      "   ------ --------------------------------- 6.0/38.8 MB 14.7 MB/s eta 0:00:03\n",
      "   -------- ------------------------------- 8.7/38.8 MB 13.6 MB/s eta 0:00:03\n",
      "   ---------- ----------------------------- 9.7/38.8 MB 11.4 MB/s eta 0:00:03\n",
      "   ------------- -------------------------- 12.8/38.8 MB 11.9 MB/s eta 0:00:03\n",
      "   ---------------- ----------------------- 16.3/38.8 MB 12.6 MB/s eta 0:00:02\n",
      "   ------------------ --------------------- 18.4/38.8 MB 12.4 MB/s eta 0:00:02\n",
      "   --------------------- ------------------ 20.7/38.8 MB 12.0 MB/s eta 0:00:02\n",
      "   ----------------------- ---------------- 23.1/38.8 MB 12.0 MB/s eta 0:00:02\n",
      "   -------------------------- ------------- 26.0/38.8 MB 12.1 MB/s eta 0:00:02\n",
      "   ------------------------------ --------- 29.1/38.8 MB 12.3 MB/s eta 0:00:01\n",
      "   ------------------------------- -------- 30.4/38.8 MB 12.5 MB/s eta 0:00:01\n",
      "   ------------------------------- -------- 30.4/38.8 MB 12.5 MB/s eta 0:00:01\n",
      "   ------------------------------- -------- 30.4/38.8 MB 12.5 MB/s eta 0:00:01\n",
      "   -------------------------------- ------- 31.2/38.8 MB 9.8 MB/s eta 0:00:01\n",
      "   -------------------------------- ------- 31.5/38.8 MB 9.8 MB/s eta 0:00:01\n",
      "   ------------------------------------ --- 35.1/38.8 MB 9.7 MB/s eta 0:00:01\n",
      "   -------------------------------------- - 37.5/38.8 MB 9.8 MB/s eta 0:00:01\n",
      "   ---------------------------------------  38.5/38.8 MB 9.8 MB/s eta 0:00:01\n",
      "   ---------------------------------------- 38.8/38.8 MB 9.6 MB/s eta 0:00:00\n",
      "Downloading pillow_heif-0.22.0-cp313-cp313-win_amd64.whl (8.6 MB)\n",
      "   ---------------------------------------- 0.0/8.6 MB ? eta -:--:--\n",
      "   ------- -------------------------------- 1.6/8.6 MB 8.2 MB/s eta 0:00:01\n",
      "   ----------------- ---------------------- 3.7/8.6 MB 8.9 MB/s eta 0:00:01\n",
      "   ---------------------------- ----------- 6.0/8.6 MB 9.7 MB/s eta 0:00:01\n",
      "   ----------------------------- ---------- 6.3/8.6 MB 9.8 MB/s eta 0:00:01\n",
      "   ---------------------------------------  8.4/8.6 MB 8.2 MB/s eta 0:00:01\n",
      "   ---------------------------------------- 8.6/8.6 MB 7.4 MB/s eta 0:00:00\n",
      "Downloading filetype-1.2.0-py2.py3-none-any.whl (19 kB)\n",
      "Downloading python_dotenv-1.1.0-py3-none-any.whl (20 kB)\n",
      "Downloading requests_toolbelt-1.0.0-py2.py3-none-any.whl (54 kB)\n",
      "Installing collected packages: filetype, python-dotenv, pillow-heif, opencv-python-headless, idna, requests-toolbelt, roboflow\n",
      "  Attempting uninstall: idna\n",
      "    Found existing installation: idna 3.10\n",
      "    Uninstalling idna-3.10:\n",
      "      Successfully uninstalled idna-3.10\n",
      "Successfully installed filetype-1.2.0 idna-3.7 opencv-python-headless-4.10.0.84 pillow-heif-0.22.0 python-dotenv-1.1.0 requests-toolbelt-1.0.0 roboflow-1.1.66\n"
     ]
    },
    {
     "name": "stderr",
     "output_type": "stream",
     "text": [
      "\n",
      "[notice] A new release of pip is available: 25.0.1 -> 25.1.1\n",
      "[notice] To update, run: python.exe -m pip install --upgrade pip\n"
     ]
    }
   ],
   "source": [
    "!pip install ultralytics\n",
    "!pip install roboflow"
   ]
  },
  {
   "cell_type": "markdown",
   "id": "cac38e67",
   "metadata": {},
   "source": [
    "# Get Dataset"
   ]
  },
  {
   "cell_type": "code",
   "execution_count": 4,
   "id": "a7888a51",
   "metadata": {},
   "outputs": [
    {
     "name": "stdout",
     "output_type": "stream",
     "text": [
      "loading Roboflow workspace...\n",
      "loading Roboflow project...\n"
     ]
    },
    {
     "name": "stderr",
     "output_type": "stream",
     "text": [
      "Downloading Dataset Version Zip in football-players-detection-1 to yolov5pytorch:: 100%|██████████| 148663/148663 [00:11<00:00, 12948.93it/s]"
     ]
    },
    {
     "name": "stdout",
     "output_type": "stream",
     "text": [
      "\n"
     ]
    },
    {
     "name": "stderr",
     "output_type": "stream",
     "text": [
      "\n",
      "Extracting Dataset Version Zip to football-players-detection-1 in yolov5pytorch:: 100%|██████████| 1338/1338 [00:00<00:00, 1584.28it/s]\n"
     ]
    }
   ],
   "source": [
    "from roboflow import Roboflow\n",
    "rf = Roboflow(api_key=\"iG9EdT19IU3eXmJE54A5\")\n",
    "project = rf.workspace(\"roboflow-jvuqo\").project(\"football-players-detection-3zvbc\")\n",
    "version = project.version(1)\n",
    "dataset = version.download(\"yolov5\")\n",
    "                "
   ]
  },
  {
   "cell_type": "code",
   "execution_count": 5,
   "id": "dee12089",
   "metadata": {},
   "outputs": [
    {
     "data": {
      "text/plain": [
       "'c:\\\\DataScience\\\\football_analysis\\\\training\\\\football-players-detection-1'"
      ]
     },
     "execution_count": 5,
     "metadata": {},
     "output_type": "execute_result"
    }
   ],
   "source": [
    "dataset.location"
   ]
  },
  {
   "cell_type": "code",
   "execution_count": 2,
   "id": "92b6942d",
   "metadata": {},
   "outputs": [
    {
     "data": {
      "text/plain": [
       "'football-players-detection-1/football-players-detection-1/valid'"
      ]
     },
     "execution_count": 2,
     "metadata": {},
     "output_type": "execute_result"
    }
   ],
   "source": [
    "import shutil\n",
    "shutil.move('football-players-detection-1/train',\n",
    "            'football-players-detection-1/football-players-detection-1/train')\n",
    "\n",
    "shutil.move('football-players-detection-1/test',\n",
    "            'football-players-detection-1/football-players-detection-1/test')\n",
    "\n",
    "shutil.move('football-players-detection-1/valid',\n",
    "            'football-players-detection-1/football-players-detection-1/valid')"
   ]
  },
  {
   "cell_type": "markdown",
   "id": "ae475286",
   "metadata": {},
   "source": [
    "# Training"
   ]
  },
  {
   "cell_type": "code",
   "execution_count": 3,
   "id": "79ddd6ed",
   "metadata": {},
   "outputs": [
    {
     "name": "stdout",
     "output_type": "stream",
     "text": [
      "PRO TIP  Replace 'model=yolov5x.pt' with new 'model=yolov5xu.pt'.\n",
      "YOLOv5 'u' models are trained with https://github.com/ultralytics/ultralytics and feature improved performance vs standard YOLOv5 models trained with https://github.com/ultralytics/yolov5.\n",
      "\n",
      "Downloading https://github.com/ultralytics/assets/releases/download/v8.3.0/yolov5xu.pt to 'yolov5xu.pt'...\n",
      "Ultralytics 8.3.152  Python-3.13.3 torch-2.7.1+cpu CPU (AMD Ryzen 5 5600 6-Core Processor)\n",
      "\u001b[34m\u001b[1mengine\\trainer: \u001b[0magnostic_nms=False, amp=True, augment=False, auto_augment=randaugment, batch=16, bgr=0.0, box=7.5, cache=False, cfg=None, classes=None, close_mosaic=10, cls=0.5, conf=None, copy_paste=0.0, copy_paste_mode=flip, cos_lr=False, cutmix=0.0, data={dataset.location}/data.yaml, degrees=0.0, deterministic=True, device=cpu, dfl=1.5, dnn=False, dropout=0.0, dynamic=False, embed=None, epochs=100, erasing=0.4, exist_ok=False, fliplr=0.5, flipud=0.0, format=torchscript, fraction=1.0, freeze=None, half=False, hsv_h=0.015, hsv_s=0.7, hsv_v=0.4, imgsz=640, int8=False, iou=0.7, keras=False, kobj=1.0, line_width=None, lr0=0.01, lrf=0.01, mask_ratio=4, max_det=300, mixup=0.0, mode=train, model=yolov5x.pt, momentum=0.937, mosaic=1.0, multi_scale=False, name=last.pt, nbs=64, nms=False, opset=None, optimize=False, optimizer=auto, overlap_mask=True, patience=100, perspective=0.0, plots=True, pose=12.0, pretrained=True, profile=False, project=None, rect=False, resume=False, retina_masks=False, save=True, save_conf=False, save_crop=False, save_dir=runs\\detect\\football-players-detection-1\\football-players-detection-1\\weights\\last.pt, save_frames=False, save_json=False, save_period=-1, save_txt=False, scale=0.5, seed=0, shear=0.0, show=False, show_boxes=True, show_conf=True, show_labels=True, simplify=True, single_cls=False, source=None, split=val, stream_buffer=False, task=detect, time=None, tracker=botsort.yaml, translate=0.1, val=True, verbose=True, vid_stride=1, visualize=False, warmup_bias_lr=0.1, warmup_epochs=3.0, warmup_momentum=0.8, weight_decay=0.0005, workers=8, workspace=None\n"
     ]
    },
    {
     "name": "stderr",
     "output_type": "stream",
     "text": [
      "\n",
      "  0%|          | 0.00/186M [00:00<?, ?B/s]\n",
      "  0%|          | 128k/186M [00:00<04:12, 773kB/s]\n",
      "  0%|          | 512k/186M [00:00<01:46, 1.82MB/s]\n",
      "  1%|          | 1.50M/186M [00:00<00:40, 4.80MB/s]\n",
      "  2%|▏         | 3.75M/186M [00:00<00:23, 8.29MB/s]\n",
      "  3%|▎         | 4.88M/186M [00:00<00:23, 8.17MB/s]\n",
      "  3%|▎         | 6.50M/186M [00:00<00:18, 10.3MB/s]\n",
      "  4%|▍         | 8.00M/186M [00:00<00:16, 11.3MB/s]\n",
      "  6%|▌         | 10.2M/186M [00:01<00:12, 14.4MB/s]\n",
      "  6%|▋         | 11.8M/186M [00:01<00:17, 10.3MB/s]\n",
      "  8%|▊         | 14.0M/186M [00:01<00:13, 13.1MB/s]\n",
      "  8%|▊         | 15.6M/186M [00:01<00:17, 10.1MB/s]\n",
      " 10%|▉         | 17.9M/186M [00:01<00:14, 12.0MB/s]\n",
      " 11%|█         | 19.6M/186M [00:01<00:13, 13.1MB/s]\n",
      " 11%|█▏        | 21.1M/186M [00:02<00:14, 11.9MB/s]\n",
      " 12%|█▏        | 22.5M/186M [00:02<00:15, 11.1MB/s]\n",
      " 13%|█▎        | 23.8M/186M [00:02<00:16, 10.5MB/s]\n",
      " 13%|█▎        | 24.9M/186M [00:02<00:16, 10.3MB/s]\n",
      " 14%|█▍        | 26.0M/186M [00:02<00:16, 10.1MB/s]\n",
      " 15%|█▍        | 27.0M/186M [00:02<00:16, 9.83MB/s]\n",
      " 15%|█▌        | 28.0M/186M [00:02<00:16, 9.89MB/s]\n",
      " 16%|█▌        | 29.0M/186M [00:02<00:16, 9.80MB/s]\n",
      " 16%|█▌        | 30.0M/186M [00:03<00:16, 9.80MB/s]\n",
      " 17%|█▋        | 31.0M/186M [00:03<00:16, 9.91MB/s]\n",
      " 17%|█▋        | 32.0M/186M [00:03<00:16, 9.77MB/s]\n",
      " 18%|█▊        | 33.0M/186M [00:03<00:16, 9.93MB/s]\n",
      " 18%|█▊        | 34.0M/186M [00:03<00:16, 9.92MB/s]\n",
      " 19%|█▉        | 35.0M/186M [00:03<00:15, 9.92MB/s]\n",
      " 19%|█▉        | 36.1M/186M [00:03<00:15, 10.2MB/s]\n",
      " 20%|█▉        | 37.1M/186M [00:03<00:15, 10.0MB/s]\n",
      " 20%|██        | 38.1M/186M [00:03<00:15, 10.2MB/s]\n",
      " 21%|██        | 39.1M/186M [00:04<00:15, 10.2MB/s]\n",
      " 22%|██▏       | 40.1M/186M [00:04<00:15, 10.2MB/s]\n",
      " 22%|██▏       | 41.2M/186M [00:04<00:14, 10.4MB/s]\n",
      " 23%|██▎       | 42.2M/186M [00:04<00:14, 10.2MB/s]\n",
      " 23%|██▎       | 43.4M/186M [00:04<00:14, 10.4MB/s]\n",
      " 24%|██▍       | 44.5M/186M [00:04<00:14, 10.3MB/s]\n",
      " 25%|██▍       | 45.6M/186M [00:04<00:14, 10.5MB/s]\n",
      " 25%|██▌       | 46.8M/186M [00:04<00:13, 10.5MB/s]\n",
      " 26%|██▌       | 47.9M/186M [00:04<00:13, 10.5MB/s]\n",
      " 26%|██▋       | 49.0M/186M [00:05<00:13, 10.6MB/s]\n",
      " 27%|██▋       | 50.1M/186M [00:05<00:13, 10.6MB/s]\n",
      " 28%|██▊       | 51.2M/186M [00:05<00:13, 10.7MB/s]\n",
      " 28%|██▊       | 52.4M/186M [00:05<00:13, 10.5MB/s]\n",
      " 29%|██▊       | 53.5M/186M [00:05<00:12, 10.7MB/s]\n",
      " 29%|██▉       | 54.6M/186M [00:05<00:13, 10.5MB/s]\n",
      " 30%|██▉       | 55.8M/186M [00:05<00:12, 10.8MB/s]\n",
      " 31%|███       | 56.9M/186M [00:05<00:12, 10.5MB/s]\n",
      " 31%|███       | 58.0M/186M [00:05<00:12, 10.6MB/s]\n",
      " 32%|███▏      | 59.1M/186M [00:06<00:12, 10.7MB/s]\n",
      " 32%|███▏      | 60.2M/186M [00:06<00:12, 10.3MB/s]\n",
      " 33%|███▎      | 61.4M/186M [00:06<00:12, 10.6MB/s]\n",
      " 34%|███▎      | 62.5M/186M [00:06<00:11, 10.9MB/s]\n",
      " 34%|███▍      | 63.6M/186M [00:06<00:12, 10.7MB/s]\n",
      " 35%|███▍      | 64.8M/186M [00:06<00:11, 10.9MB/s]\n",
      " 35%|███▌      | 65.9M/186M [00:06<00:11, 10.7MB/s]\n",
      " 36%|███▌      | 67.0M/186M [00:06<00:11, 10.9MB/s]\n",
      " 37%|███▋      | 68.1M/186M [00:06<00:11, 10.7MB/s]\n",
      " 37%|███▋      | 69.2M/186M [00:07<00:11, 10.9MB/s]\n",
      " 38%|███▊      | 70.4M/186M [00:07<00:11, 10.8MB/s]\n",
      " 38%|███▊      | 71.5M/186M [00:07<00:11, 10.9MB/s]\n",
      " 39%|███▉      | 72.6M/186M [00:07<00:10, 11.0MB/s]\n",
      " 40%|███▉      | 73.8M/186M [00:07<00:10, 10.7MB/s]\n",
      " 40%|████      | 74.9M/186M [00:07<00:10, 11.0MB/s]\n",
      " 41%|████      | 76.0M/186M [00:07<00:10, 10.7MB/s]\n",
      " 41%|████▏     | 77.1M/186M [00:07<00:10, 10.9MB/s]\n",
      " 42%|████▏     | 78.2M/186M [00:07<00:10, 10.7MB/s]\n",
      " 43%|████▎     | 79.4M/186M [00:08<00:10, 10.8MB/s]\n",
      " 43%|████▎     | 80.5M/186M [00:08<00:10, 10.7MB/s]\n",
      " 44%|████▍     | 81.6M/186M [00:08<00:10, 10.6MB/s]\n",
      " 44%|████▍     | 82.8M/186M [00:08<00:10, 10.8MB/s]\n",
      " 45%|████▌     | 83.9M/186M [00:08<00:09, 10.9MB/s]\n",
      " 46%|████▌     | 85.0M/186M [00:08<00:09, 10.7MB/s]\n",
      " 46%|████▋     | 86.1M/186M [00:08<00:09, 10.9MB/s]\n",
      " 47%|████▋     | 87.2M/186M [00:08<00:09, 10.7MB/s]\n",
      " 47%|████▋     | 88.4M/186M [00:08<00:09, 10.8MB/s]\n",
      " 48%|████▊     | 89.5M/186M [00:08<00:09, 10.7MB/s]\n",
      " 49%|████▊     | 90.6M/186M [00:09<00:09, 10.7MB/s]\n",
      " 49%|████▉     | 91.8M/186M [00:09<00:09, 10.9MB/s]\n",
      " 50%|████▉     | 92.9M/186M [00:09<00:09, 10.7MB/s]\n",
      " 51%|█████     | 94.0M/186M [00:09<00:08, 10.8MB/s]\n",
      " 51%|█████     | 95.1M/186M [00:09<00:08, 10.7MB/s]\n",
      " 52%|█████▏    | 96.2M/186M [00:09<00:08, 10.9MB/s]\n",
      " 52%|█████▏    | 97.4M/186M [00:09<00:08, 10.7MB/s]\n",
      " 53%|█████▎    | 98.5M/186M [00:09<00:08, 10.9MB/s]\n",
      " 54%|█████▎    | 99.6M/186M [00:09<00:08, 10.8MB/s]\n",
      " 54%|█████▍    | 101M/186M [00:10<00:08, 10.8MB/s] \n",
      " 55%|█████▍    | 102M/186M [00:10<00:08, 10.9MB/s]\n",
      " 55%|█████▌    | 103M/186M [00:10<00:08, 10.8MB/s]\n",
      " 56%|█████▌    | 104M/186M [00:10<00:07, 10.9MB/s]\n",
      " 57%|█████▋    | 105M/186M [00:10<00:07, 10.8MB/s]\n",
      " 57%|█████▋    | 106M/186M [00:10<00:07, 10.8MB/s]\n",
      " 58%|█████▊    | 108M/186M [00:10<00:07, 10.8MB/s]\n",
      " 58%|█████▊    | 109M/186M [00:10<00:07, 10.9MB/s]\n",
      " 59%|█████▉    | 110M/186M [00:10<00:07, 11.0MB/s]\n",
      " 60%|█████▉    | 111M/186M [00:11<00:07, 11.0MB/s]\n",
      " 60%|██████    | 112M/186M [00:11<00:07, 11.0MB/s]\n",
      " 61%|██████    | 113M/186M [00:11<00:07, 10.9MB/s]\n",
      " 61%|██████▏   | 114M/186M [00:11<00:06, 11.0MB/s]\n",
      " 62%|██████▏   | 115M/186M [00:11<00:06, 11.1MB/s]\n",
      " 63%|██████▎   | 116M/186M [00:11<00:06, 11.0MB/s]\n",
      " 63%|██████▎   | 118M/186M [00:11<00:06, 11.0MB/s]\n",
      " 64%|██████▍   | 119M/186M [00:11<00:06, 11.1MB/s]\n",
      " 64%|██████▍   | 120M/186M [00:11<00:06, 11.2MB/s]\n",
      " 65%|██████▌   | 121M/186M [00:12<00:06, 11.2MB/s]\n",
      " 66%|██████▌   | 122M/186M [00:12<00:06, 11.1MB/s]\n",
      " 66%|██████▌   | 123M/186M [00:12<00:05, 11.1MB/s]\n",
      " 67%|██████▋   | 124M/186M [00:12<00:05, 11.3MB/s]\n",
      " 67%|██████▋   | 126M/186M [00:12<00:05, 11.3MB/s]\n",
      " 68%|██████▊   | 127M/186M [00:12<00:05, 11.3MB/s]\n",
      " 69%|██████▊   | 128M/186M [00:12<00:05, 11.3MB/s]\n",
      " 69%|██████▉   | 129M/186M [00:12<00:05, 11.3MB/s]\n",
      " 70%|██████▉   | 130M/186M [00:12<00:05, 11.5MB/s]\n",
      " 71%|███████   | 131M/186M [00:12<00:05, 11.3MB/s]\n",
      " 71%|███████   | 132M/186M [00:13<00:04, 11.5MB/s]\n",
      " 72%|███████▏  | 134M/186M [00:13<00:04, 11.5MB/s]\n",
      " 73%|███████▎  | 135M/186M [00:13<00:04, 11.7MB/s]\n",
      " 73%|███████▎  | 136M/186M [00:13<00:04, 11.8MB/s]\n",
      " 74%|███████▍  | 138M/186M [00:13<00:04, 11.8MB/s]\n",
      " 75%|███████▍  | 139M/186M [00:13<00:04, 11.8MB/s]\n",
      " 75%|███████▌  | 140M/186M [00:13<00:04, 11.9MB/s]\n",
      " 76%|███████▌  | 141M/186M [00:13<00:03, 11.9MB/s]\n",
      " 77%|███████▋  | 142M/186M [00:13<00:03, 12.0MB/s]\n",
      " 77%|███████▋  | 144M/186M [00:14<00:03, 12.0MB/s]\n",
      " 78%|███████▊  | 145M/186M [00:14<00:03, 12.1MB/s]\n",
      " 79%|███████▊  | 146M/186M [00:14<00:03, 12.3MB/s]\n",
      " 79%|███████▉  | 148M/186M [00:14<00:03, 12.3MB/s]\n",
      " 80%|███████▉  | 149M/186M [00:14<00:03, 12.3MB/s]\n",
      " 81%|████████  | 150M/186M [00:14<00:03, 12.4MB/s]\n",
      " 81%|████████▏ | 151M/186M [00:14<00:02, 12.5MB/s]\n",
      " 82%|████████▏ | 153M/186M [00:14<00:02, 12.7MB/s]\n",
      " 83%|████████▎ | 154M/186M [00:14<00:02, 12.8MB/s]\n",
      " 83%|████████▎ | 155M/186M [00:15<00:02, 12.7MB/s]\n",
      " 84%|████████▍ | 156M/186M [00:15<00:02, 13.1MB/s]\n",
      " 85%|████████▍ | 158M/186M [00:15<00:02, 13.0MB/s]\n",
      " 85%|████████▌ | 159M/186M [00:15<00:02, 13.0MB/s]\n",
      " 86%|████████▌ | 160M/186M [00:15<00:02, 13.4MB/s]\n",
      " 87%|████████▋ | 162M/186M [00:15<00:01, 13.3MB/s]\n",
      " 88%|████████▊ | 163M/186M [00:15<00:01, 13.4MB/s]\n",
      " 88%|████████▊ | 164M/186M [00:15<00:01, 13.5MB/s]\n",
      " 89%|████████▉ | 166M/186M [00:15<00:01, 13.7MB/s]\n",
      " 90%|████████▉ | 167M/186M [00:16<00:02, 9.40MB/s]\n",
      " 91%|█████████ | 170M/186M [00:16<00:01, 13.1MB/s]\n",
      " 92%|█████████▏| 171M/186M [00:16<00:01, 12.1MB/s]\n",
      " 93%|█████████▎| 173M/186M [00:16<00:01, 11.6MB/s]\n",
      " 93%|█████████▎| 174M/186M [00:16<00:01, 11.4MB/s]\n",
      " 94%|█████████▍| 175M/186M [00:16<00:01, 11.1MB/s]\n",
      " 95%|█████████▍| 176M/186M [00:16<00:00, 11.1MB/s]\n",
      " 95%|█████████▌| 177M/186M [00:16<00:00, 11.1MB/s]\n",
      " 96%|█████████▌| 178M/186M [00:17<00:00, 11.1MB/s]\n",
      " 97%|█████████▋| 180M/186M [00:17<00:00, 11.1MB/s]\n",
      " 97%|█████████▋| 181M/186M [00:17<00:00, 11.2MB/s]\n",
      " 98%|█████████▊| 182M/186M [00:17<00:00, 11.4MB/s]\n",
      " 98%|█████████▊| 183M/186M [00:17<00:00, 11.3MB/s]\n",
      " 99%|█████████▉| 184M/186M [00:17<00:00, 11.5MB/s]\n",
      "100%|█████████▉| 186M/186M [00:17<00:00, 11.5MB/s]\n",
      "100%|██████████| 186M/186M [00:17<00:00, 11.0MB/s]\n",
      "Traceback (most recent call last):\n",
      "  File \u001b[35m\"C:\\Users\\excited\\AppData\\Local\\Programs\\Python\\Python313\\Lib\\site-packages\\ultralytics\\engine\\trainer.py\"\u001b[0m, line \u001b[35m607\u001b[0m, in \u001b[35mget_dataset\u001b[0m\n",
      "    data = check_det_dataset(self.args.data)\n",
      "  File \u001b[35m\"C:\\Users\\excited\\AppData\\Local\\Programs\\Python\\Python313\\Lib\\site-packages\\ultralytics\\data\\utils.py\"\u001b[0m, line \u001b[35m401\u001b[0m, in \u001b[35mcheck_det_dataset\u001b[0m\n",
      "    file = check_file(dataset)\n",
      "  File \u001b[35m\"C:\\Users\\excited\\AppData\\Local\\Programs\\Python\\Python313\\Lib\\site-packages\\ultralytics\\utils\\checks.py\"\u001b[0m, line \u001b[35m568\u001b[0m, in \u001b[35mcheck_file\u001b[0m\n",
      "    raise FileNotFoundError(f\"'{file}' does not exist\")\n",
      "\u001b[1;35mFileNotFoundError\u001b[0m: \u001b[35m'{dataset.location}/data.yaml' does not exist\u001b[0m\n",
      "\n",
      "The above exception was the direct cause of the following exception:\n",
      "\n",
      "Traceback (most recent call last):\n",
      "  File \u001b[35m\"<frozen runpy>\"\u001b[0m, line \u001b[35m198\u001b[0m, in \u001b[35m_run_module_as_main\u001b[0m\n",
      "  File \u001b[35m\"<frozen runpy>\"\u001b[0m, line \u001b[35m88\u001b[0m, in \u001b[35m_run_code\u001b[0m\n",
      "  File \u001b[35m\"C:\\Users\\excited\\AppData\\Local\\Programs\\Python\\Python313\\Scripts\\yolo.exe\\__main__.py\"\u001b[0m, line \u001b[35m7\u001b[0m, in \u001b[35m<module>\u001b[0m\n",
      "    sys.exit(\u001b[31mentrypoint\u001b[0m\u001b[1;31m()\u001b[0m)\n",
      "             \u001b[31m~~~~~~~~~~\u001b[0m\u001b[1;31m^^\u001b[0m\n",
      "  File \u001b[35m\"C:\\Users\\excited\\AppData\\Local\\Programs\\Python\\Python313\\Lib\\site-packages\\ultralytics\\cfg\\__init__.py\"\u001b[0m, line \u001b[35m983\u001b[0m, in \u001b[35mentrypoint\u001b[0m\n",
      "    \u001b[31mgetattr(model, mode)\u001b[0m\u001b[1;31m(**overrides)\u001b[0m  # default args from model\n",
      "    \u001b[31m~~~~~~~~~~~~~~~~~~~~\u001b[0m\u001b[1;31m^^^^^^^^^^^^^\u001b[0m\n",
      "  File \u001b[35m\"C:\\Users\\excited\\AppData\\Local\\Programs\\Python\\Python313\\Lib\\site-packages\\ultralytics\\engine\\model.py\"\u001b[0m, line \u001b[35m791\u001b[0m, in \u001b[35mtrain\u001b[0m\n",
      "    self.trainer = \u001b[31m(trainer or self._smart_load(\"trainer\"))\u001b[0m\u001b[1;31m(overrides=args, _callbacks=self.callbacks)\u001b[0m\n",
      "                   \u001b[31m~~~~~~~~~~~~~~~~~~~~~~~~~~~~~~~~~~~~~~~~\u001b[0m\u001b[1;31m^^^^^^^^^^^^^^^^^^^^^^^^^^^^^^^^^^^^^^^^^^^\u001b[0m\n",
      "  File \u001b[35m\"C:\\Users\\excited\\AppData\\Local\\Programs\\Python\\Python313\\Lib\\site-packages\\ultralytics\\engine\\trainer.py\"\u001b[0m, line \u001b[35m153\u001b[0m, in \u001b[35m__init__\u001b[0m\n",
      "    self.data = \u001b[31mself.get_dataset\u001b[0m\u001b[1;31m()\u001b[0m\n",
      "                \u001b[31m~~~~~~~~~~~~~~~~\u001b[0m\u001b[1;31m^^\u001b[0m\n",
      "  File \u001b[35m\"C:\\Users\\excited\\AppData\\Local\\Programs\\Python\\Python313\\Lib\\site-packages\\ultralytics\\engine\\trainer.py\"\u001b[0m, line \u001b[35m611\u001b[0m, in \u001b[35mget_dataset\u001b[0m\n",
      "    raise RuntimeError(emojis(f\"Dataset '{clean_url(self.args.data)}' error ❌ {e}\")) from e\n",
      "\u001b[1;35mRuntimeError\u001b[0m: \u001b[35mDataset '{dataset.location}/data.yaml' error  '{dataset.location}/data.yaml' does not exist\u001b[0m\n"
     ]
    }
   ],
   "source": [
    "!yolo task=detect mode=train model=yolov5x.pt data={dataset.location}/data.yaml epochs=100 imgsz=640 name=football-players-detection-1/football-players-detection-1/weights/last.pt"
   ]
  }
 ],
 "metadata": {
  "kernelspec": {
   "display_name": "Python 3",
   "language": "python",
   "name": "python3"
  },
  "language_info": {
   "codemirror_mode": {
    "name": "ipython",
    "version": 3
   },
   "file_extension": ".py",
   "mimetype": "text/x-python",
   "name": "python",
   "nbconvert_exporter": "python",
   "pygments_lexer": "ipython3",
   "version": "3.13.3"
  }
 },
 "nbformat": 4,
 "nbformat_minor": 5
}
